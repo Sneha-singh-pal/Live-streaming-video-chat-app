{
 "cells": [
  {
   "cell_type": "code",
   "execution_count": 1,
   "metadata": {},
   "outputs": [],
   "source": [
    "import socket\n",
    "import base64\n",
    "import threading\n",
    "import cv2\n",
    "import os\n",
    "\n",
    "def server():\n",
    "    \n",
    "    s=socket.socket()\n",
    "    s.setsockopt(socket.SOL_SOCKET, socket.SO_REUSEADDR, 1)\n",
    "\n",
    "    ip=\"192.168.43.88\"\n",
    "    port=8290\n",
    "\n",
    "    s.bind((ip,port))\n",
    "\n",
    "    s.listen()\n",
    "    c,addr=s.accept()\n",
    "    c.send(\"connected\".encode())\n",
    "    k=0\n",
    "    while True:\n",
    "        client_data=c.recv(10000000)\n",
    "        decoded_data = base64.b64decode(client_data)\n",
    "        file=\"client_stream_{}.jpg\".format(k)\n",
    "        with open(file, 'wb') as f:\n",
    "            f.write(decoded_data)\n",
    "        image=cv2.imread(file)\n",
    "        cv2.imshow('server',image)\n",
    "        os.remove(\"client_stream_{}.jpg\".format(k))\n",
    "        k=k+1\n",
    "        if cv2.waitKey(100)==5:\n",
    "            break\n",
    "    cv2.destroyAllWindows()\n",
    "t_server=threading.Thread(target=server)\n",
    "t_server.start()"
   ]
  },
  {
   "cell_type": "code",
   "execution_count": null,
   "metadata": {},
   "outputs": [],
   "source": []
  }
 ],
 "metadata": {
  "kernelspec": {
   "display_name": "Python 3",
   "language": "python",
   "name": "python3"
  },
  "language_info": {
   "codemirror_mode": {
    "name": "ipython",
    "version": 3
   },
   "file_extension": ".py",
   "mimetype": "text/x-python",
   "name": "python",
   "nbconvert_exporter": "python",
   "pygments_lexer": "ipython3",
   "version": "3.8.8"
  }
 },
 "nbformat": 4,
 "nbformat_minor": 4
}
