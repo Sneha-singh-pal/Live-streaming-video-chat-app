{
 "cells": [
  {
   "cell_type": "code",
   "execution_count": 1,
   "metadata": {},
   "outputs": [
    {
     "name": "stdout",
     "output_type": "stream",
     "text": [
      "connected\n"
     ]
    }
   ],
   "source": [
    "import socket\n",
    "import threading\n",
    "import cv2\n",
    "import base64\n",
    "\n",
    "def client():\n",
    "    \n",
    "    s=socket.socket()\n",
    "\n",
    "    s.connect((\"192.168.43.88\",8290))\n",
    "    response=s.recv(100000000)\n",
    "    print(response.decode())\n",
    "    cap = cv2.VideoCapture(0)\n",
    "    while True:\n",
    "        ret , photo = cap.read()\n",
    "        #cap.release()\n",
    "        cv2.imwrite(\"client_streaming.jpg\",photo)\n",
    "        cv2.imshow('client',photo)\n",
    "        if cv2.waitKey(100)==5:\n",
    "            break\n",
    "        with open(\"client_streaming.jpg\", 'rb') as f:\n",
    "            byte_image=base64.b64encode(f.read())\n",
    "        s.send(byte_image)\n",
    "    cv2.destroyAllWindows()\n",
    "t_client=threading.Thread(target=client)\n",
    "t_client.start()"
   ]
  },
  {
   "cell_type": "code",
   "execution_count": null,
   "metadata": {},
   "outputs": [],
   "source": [
    "\n"
   ]
  },
  {
   "cell_type": "code",
   "execution_count": null,
   "metadata": {},
   "outputs": [],
   "source": []
  }
 ],
 "metadata": {
  "kernelspec": {
   "display_name": "Python 3",
   "language": "python",
   "name": "python3"
  },
  "language_info": {
   "codemirror_mode": {
    "name": "ipython",
    "version": 3
   },
   "file_extension": ".py",
   "mimetype": "text/x-python",
   "name": "python",
   "nbconvert_exporter": "python",
   "pygments_lexer": "ipython3",
   "version": "3.8.8"
  }
 },
 "nbformat": 4,
 "nbformat_minor": 4
}
